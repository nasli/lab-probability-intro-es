{
 "cells": [
  {
   "cell_type": "markdown",
   "metadata": {},
   "source": [
    "# Probability"
   ]
  },
  {
   "cell_type": "markdown",
   "metadata": {},
   "source": [
    "## Reto 1\n",
    "Hay una caja con 10 bolas blancas, 12 bolas rojas y 8 bolas negras. Calcula la probabilidad de:\n",
    "* Sacar una bola blanca.\n",
    "* Sacar una bola blanca en la primera extracción y una bola negra en la segunda extracción sin reemplazar la primera.\n",
    "* Sacar una bola blanca en la primera extracción y una bola negra en la segunda extracción reemplazando la primera.\n",
    "* Sacar 3 bolas y que sean todas de diferentes colores."
   ]
  },
  {
   "cell_type": "code",
   "execution_count": 20,
   "metadata": {},
   "outputs": [
    {
     "name": "stdout",
     "output_type": "stream",
     "text": [
      "La probabilidad de sacar una bola blanca es: 33.333%\n",
      "La probabilidad de sacar una bola blanca en la primera extracción y una bola negra en la segunda extracción sin reemplazar la primera es: 9.195%\n",
      "La probabilidad de sacar una bola blanca en la primera extracción y una bola negra en la segunda extracción reemplazando la primera es: 8.889%\n",
      "La probabilidad de sacar 3 bolas y que sean todas de diferentes colores es: 23.645%\n"
     ]
    }
   ],
   "source": [
    "#Probabilidad sacar una bola blanca\n",
    "nWhite = 10\n",
    "nRed = 12\n",
    "nBlack = 8\n",
    "total = nWhite + nRed + nBlack\n",
    "\n",
    "probWhite = nWhite / (total) * 100\n",
    "print(f\"La probabilidad de sacar una bola blanca es: {probWhite:.3f}%\")\n",
    "\n",
    "nExtractionsPerform = 1\n",
    "probSecondBlack = nBlack / (total-nExtractionsPerform) \n",
    "probFirstWhiteSecondBlack = (probWhite * probSecondBlack) \n",
    "print(f\"La probabilidad de sacar una bola blanca en la primera extracción y una bola negra en la segunda extracción sin reemplazar la primera es: {probFirstWhiteSecondBlack:.3f}%\")\n",
    "\n",
    "probBlack = nBlack / total\n",
    "probFirstWhiteSecondBlackWithReplace = (probWhite * probBlack)\n",
    "print(f\"La probabilidad de sacar una bola blanca en la primera extracción y una bola negra en la segunda extracción reemplazando la primera es: {probFirstWhiteSecondBlackWithReplace:.3f}%\")\n",
    "\n",
    "\n",
    "probThirdRed = nRed / (total-2)\n",
    "import math\n",
    "nPermutacions = math.factorial(3)\n",
    "prob3Different = ((probWhite * probSecondBlack * probThirdRed) * nPermutacions )\n",
    "print(f\"La probabilidad de sacar 3 bolas y que sean todas de diferentes colores es: {prob3Different:.3f}%\")\n",
    "\n"
   ]
  },
  {
   "cell_type": "markdown",
   "metadata": {},
   "source": [
    "## Reto 2\n",
    "\n",
    "Quieres ir de picnic el sábado. Odias la lluvia y quieres planificar tu fin de semana. Para ayudarte a tomar una decisión, recopilas los siguientes datos sobre los días lluviosos:\n",
    "\n",
    "* El 40% de todos los días están nublados.\n",
    "* Aproximadamente el 50% de los días nublados son lluviosos.\n",
    "* Aproximadamente el 20% de los días no nublados son lluviosos.\n",
    "\n",
    "¿Cuál es la probabilidad de que llueva el próximo sábado?"
   ]
  },
  {
   "cell_type": "code",
   "execution_count": 30,
   "metadata": {},
   "outputs": [
    {
     "name": "stdout",
     "output_type": "stream",
     "text": [
      "La probabilidad que llueva el próximo sábado es: 0.32%\n"
     ]
    }
   ],
   "source": [
    "# Probability\n",
    "pDayCloudy = 0.4\n",
    "pDayNoCloudy = 1 - pDayCloudy # = 0.6\n",
    "\n",
    "# Conditional probabilities, conjuntos disjuntos:\n",
    "pDayCloudyAreRainy = 0.5\n",
    "pDayNoCloudyAreRainy = 0.2\n",
    "\n",
    "#Probability total p(A) = sum p(Bi) * p(A | Bi)\n",
    "pRainy = (pDayNoCloudy * pDayNoCloudyAreRainy) + (pDayCloudy * pDayCloudyAreRainy)\n",
    "# = 0.32\n",
    "print(f\"La probabilidad que llueva el próximo sábado es: {pRainy:.2f}%\")\n"
   ]
  },
  {
   "cell_type": "markdown",
   "metadata": {},
   "source": [
    "## Reto 3\n",
    "\n",
    "A y B son eventos de una probabilidad tal que \\(P(A) = 0.3\\), \\(P(B) = 0.6\\) y \\(P(A \\cap B) = 0.1\\)\n",
    "\n",
    "¿Cuáles de las siguientes afirmaciones son verdaderas?\n",
    "**SUGERENCIA: dibuja un gran diagrama de Venn a tu lado**\n",
    "* \\(P(\\overline{A}) = 0.7\\)\n",
    "* \\(P(A \\cup B) = 0.6\\)\n",
    "* \\(P(A \\cap \\overline{B}) = 0.2\\)\n",
    "* \\(P(A \\cup \\overline{A}) = 1\\)  \n",
    "* \\(P(A \\cap (B \\cup \\overline{B})) = 0.4\\)\n",
    "* \\(P(\\overline{A} \\cap \\overline{B}) = 0.3\\)\n",
    "* \\(P(\\overline{A \\cap B}) = 0.9\\)"
   ]
  },
  {
   "cell_type": "markdown",
   "metadata": {},
   "source": [
    "[![\\\\ * \\(P(\\overline{A}) = 0.7\\) \\\\ * \\(P(A \\cup B) = 0.6\\) \\\\ * \\(P(A \\cap \\overline{B}) = 0.2\\) \\\\ * \\(P(A \\cup \\overline{A}) = 1\\)   \\\\ * \\(P(A \\cap (B \\cup \\overline{B})) = 0.4\\) \\\\ * \\(P(\\overline{A} \\cap \\overline{B}) = 0.3\\) \\\\ * \\(P(\\overline{A \\cap B}) = 0.9\\)](https://latex.codecogs.com/svg.latex?%5C%5C%20*%20%5C(P(%5Coverline%7BA%7D)%20%3D%200.7%5C)%20%5C%5C%20*%20%5C(P(A%20%5Ccup%20B)%20%3D%200.6%5C)%20%5C%5C%20*%20%5C(P(A%20%5Ccap%20%5Coverline%7BB%7D)%20%3D%200.2%5C)%20%5C%5C%20*%20%5C(P(A%20%5Ccup%20%5Coverline%7BA%7D)%20%3D%201%5C)%20%20%20%5C%5C%20*%20%5C(P(A%20%5Ccap%20(B%20%5Ccup%20%5Coverline%7BB%7D))%20%3D%200.4%5C)%20%5C%5C%20*%20%5C(P(%5Coverline%7BA%7D%20%5Ccap%20%5Coverline%7BB%7D)%20%3D%200.3%5C)%20%5C%5C%20*%20%5C(P(%5Coverline%7BA%20%5Ccap%20B%7D)%20%3D%200.9%5C))](#_)"
   ]
  },
  {
   "cell_type": "markdown",
   "metadata": {},
   "source": [
    "[![\\\\ (P(\\overline{A}) = 0.7\\)](https://latex.codecogs.com/svg.latex?%5C%5C%20(P(%5Coverline%7BA%7D)%20%3D%200.7%5C))](#_)"
   ]
  },
  {
   "cell_type": "markdown",
   "metadata": {},
   "source": [
    "P(A)=0.3  \n",
    "P(B)=0.6  \n",
    "P(A∩B)=0.1  "
   ]
  },
  {
   "cell_type": "code",
   "execution_count": 45,
   "metadata": {},
   "outputs": [],
   "source": [
    "p_A = 0.3\n",
    "p_B = 0.6\n",
    "p_A_inters_B = 0.1"
   ]
  },
  {
   "cell_type": "code",
   "execution_count": 46,
   "metadata": {},
   "outputs": [
    {
     "name": "stdout",
     "output_type": "stream",
     "text": [
      "La afirmación P(A')=0.7 es verdadera\n"
     ]
    }
   ],
   "source": [
    "#1- Comprobar si P(A') = 0.7 , P(A') = 1−P(A)\n",
    "p_Ac = 1 - p_A\n",
    "if p_Ac == 0.7:\n",
    "    print(\"La afirmación P(A')=0.7 es verdadera\")\n",
    "else:\n",
    "    print(f\"La afirmación P(A')=0.7 no es verdadera, es: {p_Ac:2.f}\")"
   ]
  },
  {
   "cell_type": "markdown",
   "metadata": {},
   "source": [
    "![Diagrama de Venn: A'](./Ac.png)"
   ]
  },
  {
   "cell_type": "markdown",
   "metadata": {},
   "source": [
    "[![\\\\  \\\\ (P(A \\cup B) = 0.6\\)](https://latex.codecogs.com/svg.latex?%5C%5C%20%20%5C%5C%20(P(A%20%5Ccup%20B)%20%3D%200.6%5C))](#_)"
   ]
  },
  {
   "cell_type": "code",
   "execution_count": 48,
   "metadata": {},
   "outputs": [
    {
     "name": "stdout",
     "output_type": "stream",
     "text": [
      "La afirmación P(A u B) = 0.6 no es verdadera, es: 0.8\n"
     ]
    }
   ],
   "source": [
    "# 2- Comprobar si P(A u B) = 0.6 => P(A∪B)=P(A)+P(B)−P(A∩B)\n",
    "p_A_union_B = p_A + p_B - p_A_inters_B\n",
    "if p_A_union_B == 0.6:\n",
    "    print(\"La afirmación P(A u B) = 0.6 es verdadera\")\n",
    "else:\n",
    "    print(f\"La afirmación P(A u B) = 0.6 no es verdadera, es: {p_A_union_B:.1f}\")\n"
   ]
  },
  {
   "cell_type": "markdown",
   "metadata": {},
   "source": [
    "![Diagrama de Venn: AuB](./AuB.png)"
   ]
  },
  {
   "cell_type": "markdown",
   "metadata": {},
   "source": [
    "[![\\\\  \\\\  \\\\ (P(A \\cap \\overline{B}) = 0.2\\)](https://latex.codecogs.com/svg.latex?%5C%5C%20%20%5C%5C%20%20%5C%5C%20(P(A%20%5Ccap%20%5Coverline%7BB%7D)%20%3D%200.2%5C))](#_)"
   ]
  },
  {
   "cell_type": "code",
   "execution_count": 56,
   "metadata": {},
   "outputs": [
    {
     "name": "stdout",
     "output_type": "stream",
     "text": [
      "La afirmación P(A ∩ B') = 0.2 es verdadera\n"
     ]
    }
   ],
   "source": [
    "# 3- Comprobar si P(A∩B')=0.2 P(A)=P(A∩B)+P(A∩B') => P(A∩B')=P(A)−P(A∩B)\n",
    "p_A_inters_Bc = p_A - p_A_inters_B\n",
    "if round(p_A_inters_Bc, 1) == 0.2:\n",
    "    print(\"La afirmación P(A ∩ B') = 0.2 es verdadera\")\n",
    "else:\n",
    "    print(f\"La afirmación P(A ∩ B') = 0.2 no es verdadera, es: {p_A_inters_Bc:.1f}\")"
   ]
  },
  {
   "cell_type": "markdown",
   "metadata": {},
   "source": [
    "![Diagrama de Venn: AyBc](./AyBc.png)"
   ]
  },
  {
   "cell_type": "markdown",
   "metadata": {},
   "source": [
    "[![\\\\  \\\\ (P(A \\cup \\overline{A}) = 1\\)](https://latex.codecogs.com/svg.latex?%5C%5C%20%20%5C%5C%20(P(A%20%5Ccup%20%5Coverline%7BA%7D)%20%3D%201%5C))](#_)"
   ]
  },
  {
   "cell_type": "code",
   "execution_count": 57,
   "metadata": {},
   "outputs": [
    {
     "name": "stdout",
     "output_type": "stream",
     "text": [
      "La afirmación P(A u A') = 1 es verdadera\n"
     ]
    }
   ],
   "source": [
    "# 4- Comprobar si P(AuA') = 1\n",
    "p_A_union_Ac = p_A + p_Ac\n",
    "if p_A_union_Ac == 1:\n",
    "    print(\"La afirmación P(A u A') = 1 es verdadera\")\n",
    "else:\n",
    "    print(f\"La afirmación P(A u A') = 1 no es verdadera, es: {p_A_union_Ac:.1f}\")"
   ]
  },
  {
   "cell_type": "markdown",
   "metadata": {},
   "source": [
    "![Diagrama de Venn: AoAc](./AoAc.png)"
   ]
  },
  {
   "cell_type": "markdown",
   "metadata": {},
   "source": [
    "[![\\\\  \\\\  \\\\ (P(A \\cap (B \\cup \\overline{B})) = 0.4\\)](https://latex.codecogs.com/svg.latex?%5C%5C%20%20%5C%5C%20%20%5C%5C%20(P(A%20%5Ccap%20(B%20%5Ccup%20%5Coverline%7BB%7D))%20%3D%200.4%5C))](#_)"
   ]
  },
  {
   "cell_type": "code",
   "execution_count": 58,
   "metadata": {},
   "outputs": [
    {
     "name": "stdout",
     "output_type": "stream",
     "text": [
      "La afirmación P(A∩(B∪B')=0.4 no es verdadera, es: 0.3\n"
     ]
    }
   ],
   "source": [
    "#5- Comprobar P(A∩(B∪B')=0.4\n",
    "p_A_inters_p_B_union_Bc = p_A\n",
    "if round(p_A_inters_p_B_union_Bc, 1) == 0.4:\n",
    "    print(\"La afirmación P(A∩(B∪B')=0.4 es verdadera\")\n",
    "else:\n",
    "    print(f\"La afirmación P(A∩(B∪B')=0.4 no es verdadera, es: {p_A_inters_p_B_union_Bc:.1f}\")"
   ]
  },
  {
   "cell_type": "markdown",
   "metadata": {},
   "source": [
    "[![\\\\  \\\\ (P(\\overline{A} \\cap \\overline{B}) = 0.3\\)](https://latex.codecogs.com/svg.latex?%5C%5C%20%20%5C%5C%20(P(%5Coverline%7BA%7D%20%5Ccap%20%5Coverline%7BB%7D)%20%3D%200.3%5C))](#_)"
   ]
  },
  {
   "cell_type": "code",
   "execution_count": 59,
   "metadata": {},
   "outputs": [
    {
     "name": "stdout",
     "output_type": "stream",
     "text": [
      "La afirmación P(A'∩B')=0.3  no es verdadera, es: 0.2\n"
     ]
    }
   ],
   "source": [
    "# 6- Comprobar si P(A'∩B')=0.3 \n",
    "p_Ac_inters_Bc = 1 - p_A_union_B\n",
    "if round(p_Ac_inters_Bc, 1) == 0.3:\n",
    "    print(\"La afirmación P(A'∩B')=0.3 es verdadera\")\n",
    "else:\n",
    "    print(f\"La afirmación P(A'∩B')=0.3  no es verdadera, es: {p_Ac_inters_Bc:.1f}\")"
   ]
  },
  {
   "cell_type": "markdown",
   "metadata": {},
   "source": [
    "![Diagrama de Venn: Ac y Bc](./AcyBc.png)"
   ]
  },
  {
   "cell_type": "markdown",
   "metadata": {},
   "source": [
    "[![\\\\  \\\\  \\\\ (P(\\overline{A \\cap B}) = 0.9\\)](https://latex.codecogs.com/svg.latex?%5C%5C%20%20%5C%5C%20%20%5C%5C%20(P(%5Coverline%7BA%20%5Ccap%20B%7D)%20%3D%200.9%5C))](#_)"
   ]
  },
  {
   "cell_type": "code",
   "execution_count": 60,
   "metadata": {},
   "outputs": [
    {
     "name": "stdout",
     "output_type": "stream",
     "text": [
      "La afirmación P(A∩B)'=0.9 es verdadera\n"
     ]
    }
   ],
   "source": [
    "#7- Comprobar si P(A∩B)'=0.9 \n",
    "p_A_inters_B_c = 1 - p_A_inters_B\n",
    "if round(p_A_inters_B_c, 1) == 0.9:\n",
    "    print(\"La afirmación P(A∩B)'=0.9 es verdadera\")\n",
    "else:\n",
    "    print(f\"La afirmación P(A∩B)'=0.9   no es verdadera, es: {p_A_inters_B_c:.1f}\")"
   ]
  },
  {
   "cell_type": "markdown",
   "metadata": {},
   "source": [
    "![Diagrama de Venn: Ac y Bc](./(AyB)c.png)"
   ]
  },
  {
   "cell_type": "markdown",
   "metadata": {},
   "source": [
    "## Reto 4\n",
    "\n",
    "* Si alguien viaja a China, la probabilidad de contraer Covid es del 1%\n",
    "* Si alguien viaja a Italia, la probabilidad de contraer Covid es del 20%\n",
    "\n",
    "Lanzo un dado con números 1, 2, 3, 4, 5, 6:\n",
    "* Si sale 1: Vuelo a Italia\n",
    "* Si no sale 1: Vuelo a China\n",
    "\n",
    "Durante mi viaje, contraje Covid. ¿Cuál es la probabilidad de que haya volado a China?"
   ]
  },
  {
   "cell_type": "code",
   "execution_count": 66,
   "metadata": {},
   "outputs": [
    {
     "name": "stdout",
     "output_type": "stream",
     "text": [
      "pCovid=0.042\n",
      "Probabilidad de que haya volado a China, sabiendo que tengo covid=0.200\n"
     ]
    }
   ],
   "source": [
    "#Bayes theorem, P(A|B) = (P(B|A)*P(A)) / P(B)\n",
    "pChinaCovid = 0.01\n",
    "pItaliaCovid = 0.20\n",
    "\n",
    "setNums = {1,2,3,4,5,6}\n",
    "pItalia = 1/6\n",
    "pChina = 5/6\n",
    "\n",
    "#complementaryItalia = china\n",
    "\n",
    "pCovid = (pChina * pChinaCovid) + (pItalia * pItaliaCovid)\n",
    "print(f\"pCovid={pCovid:.3f}\")\n",
    "\n",
    "pChinaCovid = pChinaCovid * pChina / pCovid \n",
    "print(f\"Probabilidad de que haya volado a China, sabiendo que tengo covid={pChinaCovid:.3f}\")\n",
    "\n"
   ]
  },
  {
   "cell_type": "markdown",
   "metadata": {},
   "source": [
    "## BONUS\n",
    "\n",
    "Lanzas 2 dados. ¿Cuál es la probabilidad de que la suma de los números sea 7? ¿Y 8? ¿Y 9? Luego simula 10000 veces y dibuja un gráfico de conteo.\n",
    "\n",
    "tu explicación aquí"
   ]
  },
  {
   "cell_type": "code",
   "execution_count": 13,
   "metadata": {},
   "outputs": [
    {
     "name": "stdout",
     "output_type": "stream",
     "text": [
      "{2: 0.0295, 3: 0.0553, 4: 0.0809, 5: 0.113, 6: 0.1398, 7: 0.1679, 8: 0.1378, 9: 0.1136, 10: 0.0794, 11: 0.0541, 12: 0.0287}\n"
     ]
    },
    {
     "data": {
      "image/png": "[encoded data removed]",
      "text/plain": [
       "<Figure size 640x480 with 1 Axes>"
      ]
     },
     "metadata": {},
     "output_type": "display_data"
    }
   ],
   "source": [
    "import random\n",
    "def lanzar_dado():\n",
    "    return random.randint(1, 6)\n",
    "suma = {resultado : 0 for resultado in range(2, 13)}\n",
    "num_lanzamientos = 10000\n",
    "for _ in range(num_lanzamientos):\n",
    "    dado1 = lanzar_dado()\n",
    "    dado2 = lanzar_dado()\n",
    "    suma_dados = dado1 + dado2\n",
    "    suma[suma_dados] += 1\n",
    "# normalizar\n",
    "for resultado in range(2, 13):\n",
    "    suma[resultado] /= num_lanzamientos\n",
    "print(suma)\n",
    "\n",
    "import matplotlib.pyplot as plt\n",
    "plt.bar(x=suma.keys(), height=suma.values())\n",
    "plt.show()"
   ]
  },
  {
   "cell_type": "code",
   "execution_count": 14,
   "metadata": {},
   "outputs": [
    {
     "data": {
      "image/png": "[encoded data removed]",
      "text/plain": [
       "<Figure size 640x480 with 1 Axes>"
      ]
     },
     "metadata": {},
     "output_type": "display_data"
    }
   ],
   "source": [
    "plt.bar(x=list(range(2,13)), height=[1,2,3,4,5,6,5,4,3,2,1])\n",
    "plt.show()"
   ]
  },
  {
   "cell_type": "code",
   "execution_count": null,
   "metadata": {},
   "outputs": [],
   "source": [
    " 1 2 3 4 5 6\n",
    "1\n",
    "2\n",
    "3\n",
    "4\n",
    "5\n",
    "6\n",
    "\n"
   ]
  }
 ],
 "metadata": {
  "kernelspec": {
   "display_name": "base",
   "language": "python",
   "name": "python3"
  },
  "language_info": {
   "codemirror_mode": {
    "name": "ipython",
    "version": 3
   },
   "file_extension": ".py",
   "mimetype": "text/x-python",
   "name": "python",
   "nbconvert_exporter": "python",
   "pygments_lexer": "ipython3",
   "version": "3.10.15"
  },
  "toc": {
   "base_numbering": 1,
   "nav_menu": {},
   "number_sections": false,
   "sideBar": true,
   "skip_h1_title": false,
   "title_cell": "Table of Contents",
   "title_sidebar": "Contents",
   "toc_cell": false,
   "toc_position": {
    "height": "calc(100% - 180px)",
    "left": "10px",
    "top": "150px",
    "width": "296.475px"
   },
   "toc_section_display": true,
   "toc_window_display": false
  },
  "varInspector": {
   "cols": {
    "lenName": 16,
    "lenType": 16,
    "lenVar": 40
   },
   "kernels_config": {
    "python": {
     "delete_cmd_postfix": "",
     "delete_cmd_prefix": "del ",
     "library": "var_list.py",
     "varRefreshCmd": "print(var_dic_list())"
    },
    "r": {
     "delete_cmd_postfix": ") ",
     "delete_cmd_prefix": "rm(",
     "library": "var_list.r",
     "varRefreshCmd": "cat(var_dic_list()) "
    }
   },
   "types_to_exclude": [
    "module",
    "function",
    "builtin_function_or_method",
    "instance",
    "_Feature"
   ],
   "window_display": false
  }
 },
 "nbformat": 4,
 "nbformat_minor": 2
}
